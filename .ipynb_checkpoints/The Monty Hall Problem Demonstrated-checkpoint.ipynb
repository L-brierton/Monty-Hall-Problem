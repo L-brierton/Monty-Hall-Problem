{
 "cells": [
  {
   "cell_type": "markdown",
   "metadata": {},
   "source": [
    "# Introduction"
   ]
  },
  {
   "cell_type": "markdown",
   "metadata": {},
   "source": [
    "The Monty Hall Problem is something of a cultural phenomenon. The problem reveals that our intuition can often fail us on even simple problems. Many often struggle to understand the solution even after a thorough explanation, and a intermediate understanding of statistics is often needed. In this notebook, I hope to demonstrate the solution in a more practical and accessible way."
   ]
  },
  {
   "cell_type": "markdown",
   "metadata": {},
   "source": [
    "# The Demonstration"
   ]
  },
  {
   "cell_type": "code",
   "execution_count": 75,
   "metadata": {},
   "outputs": [],
   "source": [
    "import random"
   ]
  },
  {
   "cell_type": "code",
   "execution_count": 190,
   "metadata": {},
   "outputs": [],
   "source": [
    "def setting_up_the_doors():\n",
    "    # decide the car door\n",
    "    door_list = [\"goat\", \"goat\", \"goat\"]\n",
    "    chosen_door = random.randint(0,2)\n",
    "    door_list[chosen_door] = \"car\"\n",
    "    return door_list   "
   ]
  },
  {
   "cell_type": "code",
   "execution_count": 192,
   "metadata": {},
   "outputs": [],
   "source": [
    "def choose_a_door(door_list):\n",
    "    chosen_door = random.randint(0,2)\n",
    "    door_contains = door_list[chosen_door]\n",
    "    print(\"Door No.{} was chosen\".format(chosen_door+1))\n",
    "    print(\"Door contains a\", door_contains)\n",
    "    \n",
    "    return chosen_door"
   ]
  },
  {
   "cell_type": "code",
   "execution_count": 193,
   "metadata": {},
   "outputs": [],
   "source": [
    "def reveal_goat(door_list, chosen_door):\n",
    "    doors_with_goats = [i for i, x in enumerate(door_list) if x == \"goat\"]\n",
    "    revealed_door = random.choice(doors_with_goats)\n",
    "       \n",
    "    if revealed_door == chosen_door:\n",
    "        doors_with_goats.remove(revealed_door)\n",
    "        revealed_door = doors_with_goats[0]\n",
    "    \n",
    "    print(\"Door No.{} was revealed to have a goat\".format(revealed_door+1))\n",
    "    return revealed_door"
   ]
  },
  {
   "cell_type": "code",
   "execution_count": null,
   "metadata": {},
   "outputs": [],
   "source": [
    "def stick_with_choice(chosen_door, revealed_door):\n",
    "    "
   ]
  },
  {
   "cell_type": "code",
   "execution_count": 194,
   "metadata": {},
   "outputs": [
    {
     "name": "stdout",
     "output_type": "stream",
     "text": [
      "Door No.3 was chosen\n",
      "Door contains a goat\n",
      "Door No.2 was revealed to have a goat\n"
     ]
    }
   ],
   "source": [
    "doors = setting_up_the_doors()\n",
    "chosen_door = choose_a_door(doors)\n",
    "revealed_door = reveal_goat(doors, chosen_door)"
   ]
  },
  {
   "cell_type": "code",
   "execution_count": null,
   "metadata": {},
   "outputs": [],
   "source": []
  },
  {
   "cell_type": "code",
   "execution_count": null,
   "metadata": {},
   "outputs": [],
   "source": []
  }
 ],
 "metadata": {
  "kernelspec": {
   "display_name": "Python 3",
   "language": "python",
   "name": "python3"
  },
  "language_info": {
   "codemirror_mode": {
    "name": "ipython",
    "version": 3
   },
   "file_extension": ".py",
   "mimetype": "text/x-python",
   "name": "python",
   "nbconvert_exporter": "python",
   "pygments_lexer": "ipython3",
   "version": "3.6.3"
  }
 },
 "nbformat": 4,
 "nbformat_minor": 2
}

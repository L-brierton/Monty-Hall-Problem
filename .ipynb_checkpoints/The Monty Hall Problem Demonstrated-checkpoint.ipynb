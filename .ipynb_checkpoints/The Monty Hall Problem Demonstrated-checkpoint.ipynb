{
 "cells": [
  {
   "cell_type": "markdown",
   "metadata": {},
   "source": [
    "# Introduction"
   ]
  },
  {
   "cell_type": "markdown",
   "metadata": {},
   "source": [
    "The Monty Hall Problem is something of a cultural phenomenon. The problem reveals that our intuition can often fail us on even simple problems. Many often struggle to understand the solution even after a thorough explanation, and a intermediate understanding of statistics is often needed. In this notebook, I hope to demonstrate the solution in a more practical and accessible way."
   ]
  },
  {
   "cell_type": "markdown",
   "metadata": {},
   "source": [
    "# Demonstration"
   ]
  },
  {
   "cell_type": "code",
   "execution_count": 119,
   "metadata": {},
   "outputs": [],
   "source": [
    "import random"
   ]
  },
  {
   "cell_type": "code",
   "execution_count": 120,
   "metadata": {},
   "outputs": [],
   "source": [
    "def setting_up_the_doors():\n",
    "    # decide the car door\n",
    "    door_list = [\"goat\", \"goat\", \"goat\"]\n",
    "    chosen_door = random.randint(0,2)\n",
    "    door_list[chosen_door] = \"car\"\n",
    "    return door_list   "
   ]
  },
  {
   "cell_type": "code",
   "execution_count": 121,
   "metadata": {},
   "outputs": [],
   "source": [
    "def choose_a_door(door_list):\n",
    "    chosen_door = random.randint(0,2)\n",
    "    door_contains = door_list[chosen_door]\n",
    "\n",
    "    return chosen_door"
   ]
  },
  {
   "cell_type": "code",
   "execution_count": 122,
   "metadata": {},
   "outputs": [],
   "source": [
    "def reveal_goat(door_list, chosen_door):\n",
    "    doors_with_goats = get_doors_with_goats(door_list)\n",
    "    revealed_door = random.choice(doors_with_goats)\n",
    "       \n",
    "    if revealed_door == chosen_door:\n",
    "        doors_with_goats.remove(revealed_door)\n",
    "        revealed_door = doors_with_goats[0]\n",
    "    \n",
    "    return revealed_door"
   ]
  },
  {
   "cell_type": "code",
   "execution_count": 123,
   "metadata": {},
   "outputs": [],
   "source": [
    "def get_doors_with_goats(door_list):\n",
    "    doors_with_goats = [i for i, x in enumerate(door_list) if x == \"goat\"]\n",
    "    return doors_with_goats"
   ]
  },
  {
   "cell_type": "code",
   "execution_count": 124,
   "metadata": {},
   "outputs": [],
   "source": [
    "def switch(door_list, chosen_door, revealed_doors):\n",
    "    doors_with_goats = get_doors_with_goats(door_list)\n",
    "    door_numbers = [0,1,2]\n",
    "    door_numbers.remove(chosen_door)\n",
    "    door_numbers.remove(revealed_door)\n",
    "    \n",
    "    chosen_door = door_numbers[0]\n",
    "    \n",
    "    return chosen_door"
   ]
  },
  {
   "cell_type": "code",
   "execution_count": 125,
   "metadata": {},
   "outputs": [],
   "source": [
    "def access_win(door_list, chosen_door):\n",
    "    win = 0\n",
    "    if (door_list[chosen_door]=='car'):\n",
    "        win = 1\n",
    "        \n",
    "    return win"
   ]
  },
  {
   "cell_type": "markdown",
   "metadata": {},
   "source": [
    "## Game Setup"
   ]
  },
  {
   "cell_type": "code",
   "execution_count": 126,
   "metadata": {},
   "outputs": [
    {
     "name": "stdout",
     "output_type": "stream",
     "text": [
      "Door No.2 was chosen\n",
      "Door No.1 was revealed to have a goat\n"
     ]
    }
   ],
   "source": [
    "doors = setting_up_the_doors()\n",
    "chosen_door = choose_a_door(doors)\n",
    "print(\"Door No.{} was chosen\".format(chosen_door+1))\n",
    "revealed_door = reveal_goat(doors, chosen_door)\n",
    "print(\"Door No.{} was revealed to have a goat\".format(revealed_door+1))"
   ]
  },
  {
   "cell_type": "markdown",
   "metadata": {},
   "source": [
    "## Staying"
   ]
  },
  {
   "cell_type": "code",
   "execution_count": 127,
   "metadata": {},
   "outputs": [
    {
     "name": "stdout",
     "output_type": "stream",
     "text": [
      "You chose to stay with your choice\n",
      "You win\n"
     ]
    }
   ],
   "source": [
    "print(\"You chose to stay with your choice\")\n",
    "if access_win(doors, chosen_door) == 1:\n",
    "    print(\"You win\")\n",
    "else:\n",
    "    print (\"you lose\")"
   ]
  },
  {
   "cell_type": "markdown",
   "metadata": {},
   "source": [
    "## Switching"
   ]
  },
  {
   "cell_type": "code",
   "execution_count": 128,
   "metadata": {},
   "outputs": [
    {
     "name": "stdout",
     "output_type": "stream",
     "text": [
      "You chose to switch your choice\n",
      "you lose\n"
     ]
    }
   ],
   "source": [
    "print(\"You chose to switch your choice\")\n",
    "switch_choice = switch(doors, chosen_door, revealed_door)\n",
    "if access_win(doors, switch_choice) == 1:\n",
    "    print(\"You win\")\n",
    "else:\n",
    "    print (\"you lose\")"
   ]
  },
  {
   "cell_type": "markdown",
   "metadata": {},
   "source": [
    "# Test"
   ]
  },
  {
   "cell_type": "markdown",
   "metadata": {},
   "source": [
    "Now let's show the solution by running many Monty Hall Problems"
   ]
  },
  {
   "cell_type": "code",
   "execution_count": 145,
   "metadata": {},
   "outputs": [
    {
     "name": "stdout",
     "output_type": "stream",
     "text": [
      "The results are staying: 34% and switching: 66%\n"
     ]
    }
   ],
   "source": [
    "numbers_of_games = 100\n",
    "stay_win = 0\n",
    "switch_win = 0\n",
    "\n",
    "for x in range(numbers_of_games):\n",
    "    \n",
    "    \n",
    "    doors = setting_up_the_doors()\n",
    "    chosen_door = choose_a_door(doors)\n",
    "    revealed_door = reveal_goat(doors, chosen_door)\n",
    "    \n",
    "    if access_win(doors, chosen_door) == 1:\n",
    "        stay_win += 1\n",
    "    else:\n",
    "        switch_win += 1\n",
    "\n",
    "print(\"The results are staying: {}% and switching: {}%\".format(round(stay_win/numbers_of_games*100), round(switch_win/numbers_of_games*100)))      "
   ]
  },
  {
   "cell_type": "markdown",
   "metadata": {},
   "source": [
    "These results prove the solution"
   ]
  },
  {
   "cell_type": "code",
   "execution_count": null,
   "metadata": {},
   "outputs": [],
   "source": []
  }
 ],
 "metadata": {
  "kernelspec": {
   "display_name": "Python 3",
   "language": "python",
   "name": "python3"
  },
  "language_info": {
   "codemirror_mode": {
    "name": "ipython",
    "version": 3
   },
   "file_extension": ".py",
   "mimetype": "text/x-python",
   "name": "python",
   "nbconvert_exporter": "python",
   "pygments_lexer": "ipython3",
   "version": "3.6.3"
  }
 },
 "nbformat": 4,
 "nbformat_minor": 2
}
